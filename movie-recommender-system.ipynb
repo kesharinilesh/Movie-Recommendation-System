{
 "cells": [
  {
   "cell_type": "markdown",
   "id": "95194253",
   "metadata": {
    "papermill": {
     "duration": 0.002737,
     "end_time": "2023-04-23T17:59:18.011904",
     "exception": false,
     "start_time": "2023-04-23T17:59:18.009167",
     "status": "completed"
    },
    "tags": []
   },
   "source": []
  },
  {
   "cell_type": "code",
   "execution_count": null,
   "id": "616cbb10",
   "metadata": {
    "papermill": {
     "duration": 0.00133,
     "end_time": "2023-04-23T17:59:18.015006",
     "exception": false,
     "start_time": "2023-04-23T17:59:18.013676",
     "status": "completed"
    },
    "tags": []
   },
   "outputs": [],
   "source": []
  },
  {
   "cell_type": "code",
   "execution_count": null,
   "id": "74227cb3",
   "metadata": {
    "papermill": {
     "duration": 0.001193,
     "end_time": "2023-04-23T17:59:18.017629",
     "exception": false,
     "start_time": "2023-04-23T17:59:18.016436",
     "status": "completed"
    },
    "tags": []
   },
   "outputs": [],
   "source": []
  }
 ],
 "metadata": {
  "kernelspec": {
   "display_name": "Python 3",
   "language": "python",
   "name": "python3"
  },
  "language_info": {
   "codemirror_mode": {
    "name": "ipython",
    "version": 3
   },
   "file_extension": ".py",
   "mimetype": "text/x-python",
   "name": "python",
   "nbconvert_exporter": "python",
   "pygments_lexer": "ipython3",
   "version": "3.7.12"
  },
  "papermill": {
   "default_parameters": {},
   "duration": 10.44354,
   "end_time": "2023-04-23T17:59:18.643056",
   "environment_variables": {},
   "exception": null,
   "input_path": "__notebook__.ipynb",
   "output_path": "__notebook__.ipynb",
   "parameters": {},
   "start_time": "2023-04-23T17:59:08.199516",
   "version": "2.4.0"
  }
 },
 "nbformat": 4,
 "nbformat_minor": 5
}
